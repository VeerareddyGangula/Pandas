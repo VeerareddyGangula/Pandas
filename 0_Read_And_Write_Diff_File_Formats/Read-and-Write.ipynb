{
 "cells": [
  {
   "cell_type": "code",
   "execution_count": 2,
   "id": "68a0fb7b",
   "metadata": {},
   "outputs": [
    {
     "name": "stdout",
     "output_type": "stream",
     "text": [
      "Note: you may need to restart the kernel to use updated packages.\n"
     ]
    },
    {
     "name": "stderr",
     "output_type": "stream",
     "text": [
      "ERROR: Invalid requirement: '#install'\n"
     ]
    }
   ],
   "source": [
    "%pip install pandas #install in local cmd"
   ]
  },
  {
   "cell_type": "code",
   "execution_count": 3,
   "id": "6b71e7f2",
   "metadata": {},
   "outputs": [],
   "source": [
    "import pandas as pd"
   ]
  },
  {
   "cell_type": "markdown",
   "id": "334fb9da",
   "metadata": {},
   "source": [
    "# reading csv"
   ]
  },
  {
   "cell_type": "code",
   "execution_count": 23,
   "id": "0f4becb2",
   "metadata": {},
   "outputs": [],
   "source": [
    "read_csv = pd.read_csv('data/survey.csv')"
   ]
  },
  {
   "cell_type": "markdown",
   "id": "13a14c6f",
   "metadata": {},
   "source": [
    "# writing csv"
   ]
  },
  {
   "cell_type": "code",
   "execution_count": 25,
   "id": "f566e58d",
   "metadata": {},
   "outputs": [],
   "source": [
    "write_csv = read_csv.to_csv('data\\survey_w.csv')"
   ]
  },
  {
   "attachments": {},
   "cell_type": "markdown",
   "id": "6e12bdd3",
   "metadata": {},
   "source": [
    "# reading tsv"
   ]
  },
  {
   "cell_type": "code",
   "execution_count": 15,
   "id": "90c95a9f",
   "metadata": {},
   "outputs": [],
   "source": [
    "read_tsv = pd.read_table('data/survey.tsv')"
   ]
  },
  {
   "attachments": {},
   "cell_type": "markdown",
   "id": "a7729932",
   "metadata": {},
   "source": [
    "# writing tsv"
   ]
  },
  {
   "cell_type": "code",
   "execution_count": 17,
   "id": "65a875f2",
   "metadata": {},
   "outputs": [],
   "source": [
    "write_csv = read_tsv.to_csv('data\\survey-w.tsv',sep='\\t')"
   ]
  },
  {
   "cell_type": "markdown",
   "id": "f5cacabc",
   "metadata": {},
   "source": [
    "# reading excel"
   ]
  },
  {
   "cell_type": "code",
   "execution_count": 18,
   "id": "661b989b",
   "metadata": {},
   "outputs": [],
   "source": [
    "read_excel = pd.read_excel('data/employees.xlsx')"
   ]
  },
  {
   "cell_type": "markdown",
   "id": "83954714",
   "metadata": {},
   "source": [
    "# write excel"
   ]
  },
  {
   "cell_type": "code",
   "execution_count": 20,
   "id": "6e651262",
   "metadata": {},
   "outputs": [],
   "source": [
    "write_excel = read_excel.to_excel('data/employees_w.xlsx')"
   ]
  },
  {
   "cell_type": "markdown",
   "id": "5e6c3d37",
   "metadata": {},
   "source": [
    "#read json"
   ]
  },
  {
   "cell_type": "code",
   "execution_count": 21,
   "id": "d97121cc",
   "metadata": {},
   "outputs": [],
   "source": [
    "read_json = pd.read_json('data/survey.json')"
   ]
  },
  {
   "cell_type": "markdown",
   "id": "05dfc226",
   "metadata": {},
   "source": [
    "# write json"
   ]
  },
  {
   "cell_type": "code",
   "execution_count": 22,
   "id": "ea831429",
   "metadata": {},
   "outputs": [],
   "source": [
    "write_json = read_json.to_json('data/survey_w.json')"
   ]
  },
  {
   "attachments": {},
   "cell_type": "markdown",
   "id": "11c45470",
   "metadata": {},
   "source": [
    "# raed parquet"
   ]
  },
  {
   "cell_type": "code",
   "execution_count": 35,
   "id": "8ef0c2c3",
   "metadata": {},
   "outputs": [],
   "source": [
    "import pyarrow\n",
    "\n",
    "import fastparquet\n",
    "\n",
    "read_parquet = pd.read_parquet('data\\survey.parquet')"
   ]
  },
  {
   "cell_type": "markdown",
   "id": "aebf92a6",
   "metadata": {},
   "source": [
    "# write parquet"
   ]
  },
  {
   "cell_type": "code",
   "execution_count": 38,
   "id": "b2902100",
   "metadata": {},
   "outputs": [],
   "source": [
    "write_parquet = read_parquet.to_parquet('data/survey_w.parquet')"
   ]
  }
 ],
 "metadata": {
  "kernelspec": {
   "display_name": "Python 3 (ipykernel)",
   "language": "python",
   "name": "python3"
  },
  "language_info": {
   "codemirror_mode": {
    "name": "ipython",
    "version": 3
   },
   "file_extension": ".py",
   "mimetype": "text/x-python",
   "name": "python",
   "nbconvert_exporter": "python",
   "pygments_lexer": "ipython3",
   "version": "3.10.7"
  }
 },
 "nbformat": 4,
 "nbformat_minor": 5
}
