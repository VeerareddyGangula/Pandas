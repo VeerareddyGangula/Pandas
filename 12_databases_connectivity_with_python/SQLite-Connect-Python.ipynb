{
 "cells": [
  {
   "cell_type": "code",
   "execution_count": 1,
   "id": "1554e650",
   "metadata": {},
   "outputs": [],
   "source": [
    "import pandas as pd\n",
    "\n",
    "import sqlite3"
   ]
  },
  {
   "cell_type": "code",
   "execution_count": 4,
   "id": "10e93a78",
   "metadata": {},
   "outputs": [
    {
     "name": "stdout",
     "output_type": "stream",
     "text": [
      "D:\\SQLite\n"
     ]
    }
   ],
   "source": [
    "cd D:/SQLite"
   ]
  },
  {
   "cell_type": "code",
   "execution_count": 23,
   "id": "3e53729c",
   "metadata": {},
   "outputs": [],
   "source": [
    "conn = sqlite3.connect(\"sample.db\")"
   ]
  },
  {
   "cell_type": "code",
   "execution_count": 27,
   "id": "4b863397",
   "metadata": {},
   "outputs": [
    {
     "name": "stdout",
     "output_type": "stream",
     "text": [
      "('G1', 'India', 'APAC')\n",
      "('G2', 'USA', 'Americas')\n",
      "('G3', 'Canada', 'Americas')\n",
      "('G4', 'New Zealand', 'APAC')\n",
      "('G5', 'Australia', 'APAC')\n",
      "('G6', 'UK', 'Europe')\n"
     ]
    }
   ],
   "source": [
    "cur = conn.cursor()\n",
    "\n",
    "res = cur.execute(\"select * from geo\")\n",
    "for row in res:\n",
    "    print(row)"
   ]
  },
  {
   "cell_type": "code",
   "execution_count": 6,
   "id": "54dbf65a",
   "metadata": {},
   "outputs": [],
   "source": [
    "df = pd.read_csv(r\"C:\\Users\\gangu\\Desktop\\earthquake.csv\")"
   ]
  },
  {
   "cell_type": "code",
   "execution_count": 7,
   "id": "3aa4df48",
   "metadata": {},
   "outputs": [
    {
     "data": {
      "text/html": [
       "<div>\n",
       "<style scoped>\n",
       "    .dataframe tbody tr th:only-of-type {\n",
       "        vertical-align: middle;\n",
       "    }\n",
       "\n",
       "    .dataframe tbody tr th {\n",
       "        vertical-align: top;\n",
       "    }\n",
       "\n",
       "    .dataframe thead th {\n",
       "        text-align: right;\n",
       "    }\n",
       "</style>\n",
       "<table border=\"1\" class=\"dataframe\">\n",
       "  <thead>\n",
       "    <tr style=\"text-align: right;\">\n",
       "      <th></th>\n",
       "      <th>earthquake_id</th>\n",
       "      <th>occurred_on</th>\n",
       "      <th>latitude</th>\n",
       "      <th>longitude</th>\n",
       "      <th>depth</th>\n",
       "      <th>magnitude</th>\n",
       "      <th>calculation_method</th>\n",
       "      <th>network_id</th>\n",
       "      <th>place</th>\n",
       "      <th>cause</th>\n",
       "    </tr>\n",
       "  </thead>\n",
       "  <tbody>\n",
       "    <tr>\n",
       "      <th>0</th>\n",
       "      <td>1</td>\n",
       "      <td>1969-01-01 9:07:06</td>\n",
       "      <td>51.0960</td>\n",
       "      <td>-179.3920</td>\n",
       "      <td>45.00</td>\n",
       "      <td>5.6</td>\n",
       "      <td>mw</td>\n",
       "      <td>iscgem812771</td>\n",
       "      <td>Andreanof Islands, Aleutian Islands, Alaska</td>\n",
       "      <td>earthquake</td>\n",
       "    </tr>\n",
       "    <tr>\n",
       "      <th>1</th>\n",
       "      <td>2</td>\n",
       "      <td>1969-01-02 17:50:48</td>\n",
       "      <td>-56.0960</td>\n",
       "      <td>-27.8420</td>\n",
       "      <td>80.10</td>\n",
       "      <td>6.0</td>\n",
       "      <td>mw</td>\n",
       "      <td>iscgemsup812819</td>\n",
       "      <td>South Sandwich Islands region</td>\n",
       "      <td>earthquake</td>\n",
       "    </tr>\n",
       "    <tr>\n",
       "      <th>2</th>\n",
       "      <td>3</td>\n",
       "      <td>1969-01-03 3:16:40</td>\n",
       "      <td>37.1400</td>\n",
       "      <td>57.8990</td>\n",
       "      <td>10.00</td>\n",
       "      <td>5.5</td>\n",
       "      <td>mw</td>\n",
       "      <td>iscgem812826</td>\n",
       "      <td>Turkmenistan-Iran border region</td>\n",
       "      <td>earthquake</td>\n",
       "    </tr>\n",
       "    <tr>\n",
       "      <th>3</th>\n",
       "      <td>4</td>\n",
       "      <td>1969-01-03 13:28:12</td>\n",
       "      <td>51.1320</td>\n",
       "      <td>-179.3060</td>\n",
       "      <td>15.00</td>\n",
       "      <td>5.9</td>\n",
       "      <td>mw</td>\n",
       "      <td>iscgem812841</td>\n",
       "      <td>Andreanof Islands, Aleutian Islands, Alaska</td>\n",
       "      <td>earthquake</td>\n",
       "    </tr>\n",
       "    <tr>\n",
       "      <th>4</th>\n",
       "      <td>5</td>\n",
       "      <td>1969-01-04 22:36:48</td>\n",
       "      <td>-6.8500</td>\n",
       "      <td>129.8210</td>\n",
       "      <td>105.00</td>\n",
       "      <td>5.8</td>\n",
       "      <td>mw</td>\n",
       "      <td>iscgem812879</td>\n",
       "      <td>Banda Sea</td>\n",
       "      <td>earthquake</td>\n",
       "    </tr>\n",
       "    <tr>\n",
       "      <th>...</th>\n",
       "      <td>...</td>\n",
       "      <td>...</td>\n",
       "      <td>...</td>\n",
       "      <td>...</td>\n",
       "      <td>...</td>\n",
       "      <td>...</td>\n",
       "      <td>...</td>\n",
       "      <td>...</td>\n",
       "      <td>...</td>\n",
       "      <td>...</td>\n",
       "    </tr>\n",
       "    <tr>\n",
       "      <th>23114</th>\n",
       "      <td>23115</td>\n",
       "      <td>2018-12-26 14:11:22</td>\n",
       "      <td>-17.2789</td>\n",
       "      <td>-174.0153</td>\n",
       "      <td>120.00</td>\n",
       "      <td>5.7</td>\n",
       "      <td>mww</td>\n",
       "      <td>us2000ixpr</td>\n",
       "      <td>149km S of Hihifo, Tonga</td>\n",
       "      <td>earthquake</td>\n",
       "    </tr>\n",
       "    <tr>\n",
       "      <th>23115</th>\n",
       "      <td>23116</td>\n",
       "      <td>2018-12-28 3:03:33</td>\n",
       "      <td>-1.4521</td>\n",
       "      <td>134.0850</td>\n",
       "      <td>41.00</td>\n",
       "      <td>5.7</td>\n",
       "      <td>mww</td>\n",
       "      <td>us2000iyhj</td>\n",
       "      <td>64km S of Manokwari, Indonesia</td>\n",
       "      <td>earthquake</td>\n",
       "    </tr>\n",
       "    <tr>\n",
       "      <th>23116</th>\n",
       "      <td>23117</td>\n",
       "      <td>2018-12-29 3:39:10</td>\n",
       "      <td>5.8983</td>\n",
       "      <td>126.9209</td>\n",
       "      <td>60.21</td>\n",
       "      <td>7.0</td>\n",
       "      <td>mww</td>\n",
       "      <td>us2000iyta</td>\n",
       "      <td>96km ESE of Pondaguitan, Philippines</td>\n",
       "      <td>earthquake</td>\n",
       "    </tr>\n",
       "    <tr>\n",
       "      <th>23117</th>\n",
       "      <td>23118</td>\n",
       "      <td>2018-12-30 8:39:12</td>\n",
       "      <td>-2.6772</td>\n",
       "      <td>102.3490</td>\n",
       "      <td>166.00</td>\n",
       "      <td>5.7</td>\n",
       "      <td>mww</td>\n",
       "      <td>us2000iz50</td>\n",
       "      <td>89km NW of Lubuklinggau, Indonesia</td>\n",
       "      <td>earthquake</td>\n",
       "    </tr>\n",
       "    <tr>\n",
       "      <th>23118</th>\n",
       "      <td>23119</td>\n",
       "      <td>2018-12-31 2:35:38</td>\n",
       "      <td>54.4266</td>\n",
       "      <td>-161.5131</td>\n",
       "      <td>31.00</td>\n",
       "      <td>6.0</td>\n",
       "      <td>mww</td>\n",
       "      <td>us2000izcv</td>\n",
       "      <td>114km SE of Cold Bay, Alaska</td>\n",
       "      <td>earthquake</td>\n",
       "    </tr>\n",
       "  </tbody>\n",
       "</table>\n",
       "<p>23119 rows × 10 columns</p>\n",
       "</div>"
      ],
      "text/plain": [
       "       earthquake_id          occurred_on  latitude  longitude   depth   \n",
       "0                  1   1969-01-01 9:07:06   51.0960  -179.3920   45.00  \\\n",
       "1                  2  1969-01-02 17:50:48  -56.0960   -27.8420   80.10   \n",
       "2                  3   1969-01-03 3:16:40   37.1400    57.8990   10.00   \n",
       "3                  4  1969-01-03 13:28:12   51.1320  -179.3060   15.00   \n",
       "4                  5  1969-01-04 22:36:48   -6.8500   129.8210  105.00   \n",
       "...              ...                  ...       ...        ...     ...   \n",
       "23114          23115  2018-12-26 14:11:22  -17.2789  -174.0153  120.00   \n",
       "23115          23116   2018-12-28 3:03:33   -1.4521   134.0850   41.00   \n",
       "23116          23117   2018-12-29 3:39:10    5.8983   126.9209   60.21   \n",
       "23117          23118   2018-12-30 8:39:12   -2.6772   102.3490  166.00   \n",
       "23118          23119   2018-12-31 2:35:38   54.4266  -161.5131   31.00   \n",
       "\n",
       "       magnitude calculation_method       network_id   \n",
       "0            5.6                 mw     iscgem812771  \\\n",
       "1            6.0                 mw  iscgemsup812819   \n",
       "2            5.5                 mw     iscgem812826   \n",
       "3            5.9                 mw     iscgem812841   \n",
       "4            5.8                 mw     iscgem812879   \n",
       "...          ...                ...              ...   \n",
       "23114        5.7                mww       us2000ixpr   \n",
       "23115        5.7                mww       us2000iyhj   \n",
       "23116        7.0                mww       us2000iyta   \n",
       "23117        5.7                mww       us2000iz50   \n",
       "23118        6.0                mww       us2000izcv   \n",
       "\n",
       "                                             place       cause  \n",
       "0      Andreanof Islands, Aleutian Islands, Alaska  earthquake  \n",
       "1                    South Sandwich Islands region  earthquake  \n",
       "2                  Turkmenistan-Iran border region  earthquake  \n",
       "3      Andreanof Islands, Aleutian Islands, Alaska  earthquake  \n",
       "4                                        Banda Sea  earthquake  \n",
       "...                                            ...         ...  \n",
       "23114                     149km S of Hihifo, Tonga  earthquake  \n",
       "23115               64km S of Manokwari, Indonesia  earthquake  \n",
       "23116         96km ESE of Pondaguitan, Philippines  earthquake  \n",
       "23117           89km NW of Lubuklinggau, Indonesia  earthquake  \n",
       "23118                 114km SE of Cold Bay, Alaska  earthquake  \n",
       "\n",
       "[23119 rows x 10 columns]"
      ]
     },
     "execution_count": 7,
     "metadata": {},
     "output_type": "execute_result"
    }
   ],
   "source": [
    "df"
   ]
  },
  {
   "cell_type": "code",
   "execution_count": 8,
   "id": "a3462319",
   "metadata": {},
   "outputs": [
    {
     "data": {
      "text/plain": [
       "23119"
      ]
     },
     "execution_count": 8,
     "metadata": {},
     "output_type": "execute_result"
    }
   ],
   "source": [
    "df.to_sql(name = \"Earthquake\",con=conn,if_exists='replace',index=False)"
   ]
  },
  {
   "cell_type": "code",
   "execution_count": 9,
   "id": "287a3200",
   "metadata": {},
   "outputs": [],
   "source": [
    "%load_ext sql"
   ]
  },
  {
   "cell_type": "code",
   "execution_count": 10,
   "id": "9a26bd7f",
   "metadata": {},
   "outputs": [],
   "source": [
    "%sql sqlite:///sample.db"
   ]
  },
  {
   "cell_type": "code",
   "execution_count": 11,
   "id": "fe6d4b4d",
   "metadata": {},
   "outputs": [
    {
     "name": "stdout",
     "output_type": "stream",
     "text": [
      " * sqlite:///sample.db\n",
      "Done.\n"
     ]
    },
    {
     "data": {
      "text/html": [
       "<table>\n",
       "    <thead>\n",
       "        <tr>\n",
       "            <th>GeoID</th>\n",
       "            <th>Geo</th>\n",
       "            <th>Region</th>\n",
       "        </tr>\n",
       "    </thead>\n",
       "    <tbody>\n",
       "        <tr>\n",
       "            <td>G1</td>\n",
       "            <td>India</td>\n",
       "            <td>APAC</td>\n",
       "        </tr>\n",
       "        <tr>\n",
       "            <td>G2</td>\n",
       "            <td>USA</td>\n",
       "            <td>Americas</td>\n",
       "        </tr>\n",
       "        <tr>\n",
       "            <td>G3</td>\n",
       "            <td>Canada</td>\n",
       "            <td>Americas</td>\n",
       "        </tr>\n",
       "        <tr>\n",
       "            <td>G4</td>\n",
       "            <td>New Zealand</td>\n",
       "            <td>APAC</td>\n",
       "        </tr>\n",
       "        <tr>\n",
       "            <td>G5</td>\n",
       "            <td>Australia</td>\n",
       "            <td>APAC</td>\n",
       "        </tr>\n",
       "        <tr>\n",
       "            <td>G6</td>\n",
       "            <td>UK</td>\n",
       "            <td>Europe</td>\n",
       "        </tr>\n",
       "    </tbody>\n",
       "</table>"
      ],
      "text/plain": [
       "[('G1', 'India', 'APAC'),\n",
       " ('G2', 'USA', 'Americas'),\n",
       " ('G3', 'Canada', 'Americas'),\n",
       " ('G4', 'New Zealand', 'APAC'),\n",
       " ('G5', 'Australia', 'APAC'),\n",
       " ('G6', 'UK', 'Europe')]"
      ]
     },
     "execution_count": 11,
     "metadata": {},
     "output_type": "execute_result"
    }
   ],
   "source": [
    "%%sql\n",
    "\n",
    "select * from geo"
   ]
  },
  {
   "cell_type": "code",
   "execution_count": 14,
   "id": "5faf8683",
   "metadata": {},
   "outputs": [
    {
     "data": {
      "text/html": [
       "<div>\n",
       "<style scoped>\n",
       "    .dataframe tbody tr th:only-of-type {\n",
       "        vertical-align: middle;\n",
       "    }\n",
       "\n",
       "    .dataframe tbody tr th {\n",
       "        vertical-align: top;\n",
       "    }\n",
       "\n",
       "    .dataframe thead th {\n",
       "        text-align: right;\n",
       "    }\n",
       "</style>\n",
       "<table border=\"1\" class=\"dataframe\">\n",
       "  <thead>\n",
       "    <tr style=\"text-align: right;\">\n",
       "      <th></th>\n",
       "      <th>GeoID</th>\n",
       "      <th>Geo</th>\n",
       "      <th>Region</th>\n",
       "    </tr>\n",
       "  </thead>\n",
       "  <tbody>\n",
       "    <tr>\n",
       "      <th>0</th>\n",
       "      <td>G1</td>\n",
       "      <td>India</td>\n",
       "      <td>APAC</td>\n",
       "    </tr>\n",
       "    <tr>\n",
       "      <th>1</th>\n",
       "      <td>G2</td>\n",
       "      <td>USA</td>\n",
       "      <td>Americas</td>\n",
       "    </tr>\n",
       "    <tr>\n",
       "      <th>2</th>\n",
       "      <td>G3</td>\n",
       "      <td>Canada</td>\n",
       "      <td>Americas</td>\n",
       "    </tr>\n",
       "    <tr>\n",
       "      <th>3</th>\n",
       "      <td>G4</td>\n",
       "      <td>New Zealand</td>\n",
       "      <td>APAC</td>\n",
       "    </tr>\n",
       "    <tr>\n",
       "      <th>4</th>\n",
       "      <td>G5</td>\n",
       "      <td>Australia</td>\n",
       "      <td>APAC</td>\n",
       "    </tr>\n",
       "    <tr>\n",
       "      <th>5</th>\n",
       "      <td>G6</td>\n",
       "      <td>UK</td>\n",
       "      <td>Europe</td>\n",
       "    </tr>\n",
       "  </tbody>\n",
       "</table>\n",
       "</div>"
      ],
      "text/plain": [
       "  GeoID          Geo    Region\n",
       "0    G1        India      APAC\n",
       "1    G2          USA  Americas\n",
       "2    G3       Canada  Americas\n",
       "3    G4  New Zealand      APAC\n",
       "4    G5    Australia      APAC\n",
       "5    G6           UK    Europe"
      ]
     },
     "execution_count": 14,
     "metadata": {},
     "output_type": "execute_result"
    }
   ],
   "source": [
    "pd.read_sql('select * from geo',conn)"
   ]
  },
  {
   "cell_type": "code",
   "execution_count": 15,
   "id": "0b5d52b9",
   "metadata": {},
   "outputs": [
    {
     "data": {
      "text/html": [
       "<div>\n",
       "<style scoped>\n",
       "    .dataframe tbody tr th:only-of-type {\n",
       "        vertical-align: middle;\n",
       "    }\n",
       "\n",
       "    .dataframe tbody tr th {\n",
       "        vertical-align: top;\n",
       "    }\n",
       "\n",
       "    .dataframe thead th {\n",
       "        text-align: right;\n",
       "    }\n",
       "</style>\n",
       "<table border=\"1\" class=\"dataframe\">\n",
       "  <thead>\n",
       "    <tr style=\"text-align: right;\">\n",
       "      <th></th>\n",
       "      <th>GeoID</th>\n",
       "      <th>Geo</th>\n",
       "      <th>Region</th>\n",
       "    </tr>\n",
       "  </thead>\n",
       "  <tbody>\n",
       "    <tr>\n",
       "      <th>0</th>\n",
       "      <td>G1</td>\n",
       "      <td>India</td>\n",
       "      <td>APAC</td>\n",
       "    </tr>\n",
       "    <tr>\n",
       "      <th>1</th>\n",
       "      <td>G2</td>\n",
       "      <td>USA</td>\n",
       "      <td>Americas</td>\n",
       "    </tr>\n",
       "    <tr>\n",
       "      <th>2</th>\n",
       "      <td>G3</td>\n",
       "      <td>Canada</td>\n",
       "      <td>Americas</td>\n",
       "    </tr>\n",
       "    <tr>\n",
       "      <th>3</th>\n",
       "      <td>G4</td>\n",
       "      <td>New Zealand</td>\n",
       "      <td>APAC</td>\n",
       "    </tr>\n",
       "    <tr>\n",
       "      <th>4</th>\n",
       "      <td>G5</td>\n",
       "      <td>Australia</td>\n",
       "      <td>APAC</td>\n",
       "    </tr>\n",
       "    <tr>\n",
       "      <th>5</th>\n",
       "      <td>G6</td>\n",
       "      <td>UK</td>\n",
       "      <td>Europe</td>\n",
       "    </tr>\n",
       "  </tbody>\n",
       "</table>\n",
       "</div>"
      ],
      "text/plain": [
       "  GeoID          Geo    Region\n",
       "0    G1        India      APAC\n",
       "1    G2          USA  Americas\n",
       "2    G3       Canada  Americas\n",
       "3    G4  New Zealand      APAC\n",
       "4    G5    Australia      APAC\n",
       "5    G6           UK    Europe"
      ]
     },
     "execution_count": 15,
     "metadata": {},
     "output_type": "execute_result"
    }
   ],
   "source": [
    "pd.read_sql_query('select * from geo',conn)"
   ]
  },
  {
   "cell_type": "code",
   "execution_count": 28,
   "id": "efb4f36d",
   "metadata": {},
   "outputs": [],
   "source": [
    "conn.commit()"
   ]
  },
  {
   "cell_type": "code",
   "execution_count": 29,
   "id": "bcf7d0e0",
   "metadata": {},
   "outputs": [],
   "source": [
    "conn.close()"
   ]
  }
 ],
 "metadata": {
  "kernelspec": {
   "display_name": "Python 3 (ipykernel)",
   "language": "python",
   "name": "python3"
  },
  "language_info": {
   "codemirror_mode": {
    "name": "ipython",
    "version": 3
   },
   "file_extension": ".py",
   "mimetype": "text/x-python",
   "name": "python",
   "nbconvert_exporter": "python",
   "pygments_lexer": "ipython3",
   "version": "3.11.3"
  }
 },
 "nbformat": 4,
 "nbformat_minor": 5
}
